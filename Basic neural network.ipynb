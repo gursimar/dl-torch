{
 "cells": [
  {
   "cell_type": "code",
   "execution_count": 415,
   "metadata": {},
   "outputs": [],
   "source": [
    "import numpy as np\n",
    "from matplotlib import pyplot as plt\n",
    "from torch import nn\n",
    "import torch\n",
    "from torch.autograd import Variable\n",
    "import torch.nn.functional as F\n",
    "import torch.optim as optim\n",
    "%matplotlib inline"
   ]
  },
  {
   "cell_type": "markdown",
   "metadata": {},
   "source": [
    "## Raw implementation of NN in numpy"
   ]
  },
  {
   "cell_type": "code",
   "execution_count": 302,
   "metadata": {},
   "outputs": [],
   "source": [
    "# BP thinking - for any equation, the gradient of inputs is product of gradients of\n",
    "# the loss with respect to output (how the loss changes with respect to output)\n",
    "# the output with respect to inputs (hot the output changes with respect to inputs)\n",
    "\n",
    "# Nice videos for vectorizing code\n",
    "# https://www.youtube.com/watch?v=-l9BdZsopYI\n",
    "\n",
    "class Linear:\n",
    "    def __init__(self, input_dim, output_dim):\n",
    "        # output dim is k, input dim is d\n",
    "        self.W = np.random.randn(output_dim,input_dim) *0.01# kxd matrix\n",
    "        self.b = np.random.randn(output_dim,1) *0.01 # kx1 matrix\n",
    "        self.gradW = np.random.randn(output_dim,input_dim) # kxd matrix\n",
    "        self.gradb = np.random.randn(output_dim)\n",
    "        \n",
    "    # x is 1xd single example\n",
    "    def forward(self, x):\n",
    "        # z = XWT + b\n",
    "        output = np.dot(self.W,x) + self.b\n",
    "        return output # nxk matrix\n",
    "    \n",
    "    def backward(self, x, prevGrad):\n",
    "        # this can be thought as three separate groups of variables in computation graph\n",
    "        # 1. the inputs x\n",
    "        # 2. the weights w\n",
    "        # 3. the bias b\n",
    "        # z = XWT + b\n",
    "        \n",
    "        # dL/dW = dz/dW * dL/dz\n",
    "        # this is a kxd matrix\n",
    "        self.gradW = np.dot(prevGrad, x.T)\n",
    "        \n",
    "        # dL/db = dz/db * dL/dz\n",
    "        # this is a kx1 matrix\n",
    "        self.gradb = np.copy(prevGrad)\n",
    "        \n",
    "        # this needs to be returned; as this is the value comes from previous layer\n",
    "        # dL/dX = dz/dX * dL/dz\n",
    "        # this is a dx1 matrix\n",
    "        return np.dot(self.W.T ,prevGrad)\n",
    "        \n",
    "        \n",
    "class Sigmoid:\n",
    "    def __init__(self):\n",
    "        pass\n",
    "    \n",
    "    def forward(self, x):\n",
    "        output = 1/(1+np.exp(-x))\n",
    "        return output\n",
    "    \n",
    "    def backward(self, x, prevGrad):\n",
    "        sig = 1/(1+np.exp(-x))\n",
    "        return np.multiply(np.multiply(sig, (1 - sig)), prevGrad)\n",
    "        \n",
    "class MSE:\n",
    "    def __init__(self):\n",
    "        pass\n",
    "    \n",
    "    def forward(self,prediction, label):\n",
    "        output = np.mean(np.square((prediction-label)))\n",
    "        return output\n",
    "    \n",
    "    def backward(self, prediction, label):\n",
    "        return np.mean(2*(prediction - label))\n",
    "        \n",
    "        "
   ]
  },
  {
   "cell_type": "code",
   "execution_count": 303,
   "metadata": {},
   "outputs": [
    {
     "data": {
      "text/plain": [
       "[<matplotlib.lines.Line2D at 0x116fda990>]"
      ]
     },
     "execution_count": 303,
     "metadata": {},
     "output_type": "execute_result"
    },
    {
     "data": {
      "image/png": "[encoded data removed]",
      "text/plain": [
       "<matplotlib.figure.Figure at 0x1176a7690>"
      ]
     },
     "metadata": {},
     "output_type": "display_data"
    }
   ],
   "source": [
    "def createData():\n",
    "    x = np.linspace(0,10,70)\n",
    "    y = np.sin(5*x) + np.random.randn()*5 + x\n",
    "    return (x,y)\n",
    "## Create data\n",
    "# X is 1xd thing\n",
    "(X,y) = createData()\n",
    "plt.plot(X,y,'.')"
   ]
  },
  {
   "cell_type": "code",
   "execution_count": 307,
   "metadata": {
    "scrolled": true
   },
   "outputs": [],
   "source": [
    "n = len(X)\n",
    "d = 1\n",
    "o = 1\n",
    "h = 3\n",
    "\n",
    "Xi = X[1]\n",
    "yi = y[1]\n",
    "lin1 = Linear(d,h)\n",
    "sig = Sigmoid()\n",
    "lin2 = Linear(h,o)\n",
    "mse = MSE()\n",
    "\n",
    "z = lin1.forward(Xi) # kx1 matrix\n",
    "a = sig.forward(z)\n",
    "yhat = lin2.forward(a)\n",
    "loss = mse.forward(yhat,yi)\n",
    "\n",
    "grad1 = mse.backward(yhat,yi)\n",
    "grad2 = lin2.backward(a, grad1)\n",
    "grad3 = sig.backward(z, grad2)\n",
    "grad4 = lin1.backward(Xi, grad3)"
   ]
  },
  {
   "cell_type": "code",
   "execution_count": 308,
   "metadata": {},
   "outputs": [
    {
     "data": {
      "text/plain": [
       "array([[ 0.0029194 ],\n",
       "       [ 0.00149857],\n",
       "       [ 0.01011252]])"
      ]
     },
     "metadata": {},
     "output_type": "display_data"
    },
    {
     "data": {
      "text/plain": [
       "array([[ 0.0004231 ],\n",
       "       [ 0.00021718],\n",
       "       [ 0.00146558]])"
      ]
     },
     "metadata": {},
     "output_type": "display_data"
    }
   ],
   "source": [
    "display(lin1.gradb)\n",
    "display(lin1.gradW)"
   ]
  },
  {
   "cell_type": "code",
   "execution_count": null,
   "metadata": {},
   "outputs": [],
   "source": [
    "ep = 0.00001\n",
    "for i in range (0, lin1.gradW.shape[0]):\n",
    "    for j in range(0, lin2.gradW.shape[1]):\n",
    "        loss = mse.forward(lin2.forward(a = sig.forward(lin1.forward(Xi))))\n",
    "        new_weight = np.copy(lin1.we)\n"
   ]
  },
  {
   "cell_type": "code",
   "execution_count": null,
   "metadata": {},
   "outputs": [],
   "source": []
  },
  {
   "cell_type": "markdown",
   "metadata": {},
   "source": [
    "## Stochatic gradient"
   ]
  },
  {
   "cell_type": "code",
   "execution_count": 371,
   "metadata": {},
   "outputs": [
    {
     "name": "stdout",
     "output_type": "stream",
     "text": [
      "Iteration 0 = 0.627220\n",
      "Iteration 50 = 1.707527\n",
      "Iteration 100 = 1.404327\n",
      "Iteration 150 = 1.132808\n",
      "Iteration 200 = 0.904998\n",
      "Iteration 250 = 0.733552\n",
      "Iteration 300 = 0.619262\n",
      "Iteration 350 = 0.551203\n",
      "Iteration 400 = 0.514249\n",
      "Iteration 450 = 0.495494\n",
      "Iteration 500 = 0.486373\n",
      "Iteration 550 = 0.482028\n",
      "Iteration 600 = 0.479964\n",
      "Iteration 650 = 0.478973\n",
      "Iteration 700 = 0.478488\n",
      "Iteration 750 = 0.478247\n",
      "Iteration 800 = 0.478128\n",
      "Iteration 850 = 0.478073\n",
      "Iteration 900 = 0.478051\n",
      "Iteration 950 = 0.478049\n"
     ]
    },
    {
     "data": {
      "text/plain": [
       "[<matplotlib.lines.Line2D at 0x11a19d0d0>]"
      ]
     },
     "execution_count": 371,
     "metadata": {},
     "output_type": "execute_result"
    },
    {
     "data": {
      "image/png": "[encoded data removed]",
      "text/plain": [
       "<matplotlib.figure.Figure at 0x11a2875d0>"
      ]
     },
     "metadata": {},
     "output_type": "display_data"
    }
   ],
   "source": [
    "alpha = 0.0001\n",
    "epochs = 1000\n",
    "\n",
    "h=10000\n",
    "lin1 = Linear(d,h)\n",
    "sig = Sigmoid()\n",
    "lin2 = Linear(h,o)\n",
    "mse = MSE()\n",
    "\n",
    "for epoch in range(0,epochs):\n",
    "    loss = 0\n",
    "    Yhat = np.zeros(n)\n",
    "    for i in range(0, n):\n",
    "        Xi = X[i]\n",
    "        yi = y[i]\n",
    "\n",
    "        # forward propagation\n",
    "        z = lin1.forward(Xi)\n",
    "        a = sig.forward(z)\n",
    "        yhat = lin2.forward(a)\n",
    "        loss += mse.forward(yhat,yi)\n",
    "        Yhat[i] = yhat\n",
    "        \n",
    "        grad1 = mse.backward(yhat,yi)\n",
    "        grad2 = lin2.backward(a, grad1)\n",
    "        grad3 = sig.backward(z, grad2)\n",
    "        grad4 = lin1.backward(Xi, grad3)\n",
    "        \n",
    "        lin1.W = lin1.W - alpha*lin1.gradW\n",
    "        lin1.b = lin1.b - alpha*lin1.gradb\n",
    "        lin2.W = lin2.W - alpha*lin2.gradW\n",
    "        lin2.b = lin2.b - alpha*lin2.gradb\n",
    "\n",
    "    if epoch % 50 == 0:\n",
    "        print('Iteration %d = %.6f' % (epoch, loss / n))        \n",
    "        \n",
    "plt.plot(X,y,'.r')\n",
    "plt.plot(X,Yhat,'.b')"
   ]
  },
  {
   "cell_type": "markdown",
   "metadata": {},
   "source": [
    "Sigmoid does not give a good solution with less nunmber of units.\n",
    "Also, notice how it cheated the loss by predicting +ve and -ve losses.\n",
    "Even I use more number of layers, i can improve a bit."
   ]
  },
  {
   "cell_type": "code",
   "execution_count": 338,
   "metadata": {},
   "outputs": [],
   "source": [
    "# Rectified linear unit\n",
    "class ReLU:\n",
    "    def forward(self, x):\n",
    "        return np.multiply(np.greater(x,0),x)\n",
    "    \n",
    "    def backward(self, x, prevGrad):\n",
    "        inter = np.greater(x,0).astype(float)\n",
    "        return np.multiply(inter, prevGrad)\n",
    "        \n",
    "# Hyperbolic tangent.\n",
    "class Tanh:\n",
    "    def forward(self, x):\n",
    "        a = np.exp(x)\n",
    "        b = np.exp(-x)\n",
    "        tanh = (a-b)/(a+b)\n",
    "        return tanh\n",
    "    \n",
    "    def backward(self, x, prevGrad):\n",
    "        a = np.exp(x)\n",
    "        b = np.exp(-x)\n",
    "        tanh = (a-b)/(a+b)\n",
    "        return np.multiply((1-np.square(tanh)), prevGrad)"
   ]
  },
  {
   "cell_type": "code",
   "execution_count": 364,
   "metadata": {
    "scrolled": false
   },
   "outputs": [
    {
     "name": "stdout",
     "output_type": "stream",
     "text": [
      "Iteration 0 = 5.066288\n",
      "Iteration 50 = 1.845312\n",
      "Iteration 100 = 0.530817\n",
      "Iteration 150 = 0.376960\n",
      "Iteration 200 = 0.376253\n",
      "Iteration 250 = 0.375795\n",
      "Iteration 300 = 0.374820\n",
      "Iteration 350 = 0.373465\n"
     ]
    },
    {
     "data": {
      "text/plain": [
       "[<matplotlib.lines.Line2D at 0x110f40590>]"
      ]
     },
     "execution_count": 364,
     "metadata": {},
     "output_type": "execute_result"
    },
    {
     "data": {
      "image/png": "[encoded data removed]",
      "text/plain": [
       "<matplotlib.figure.Figure at 0x119c946d0>"
      ]
     },
     "metadata": {},
     "output_type": "display_data"
    }
   ],
   "source": [
    "alpha = 0.01\n",
    "epochs = 400\n",
    "\n",
    "h=5\n",
    "lin1 = Linear(d,h)\n",
    "sig = ReLU()\n",
    "lin2 = Linear(h,o)\n",
    "mse = MSE()\n",
    "\n",
    "for epoch in range(0,epochs):\n",
    "    loss = 0\n",
    "    Yhat = np.zeros(n)\n",
    "    for i in range(0, n):\n",
    "        Xi = X[i]\n",
    "        yi = y[i]\n",
    "\n",
    "        # forward propagation\n",
    "        z = lin1.forward(Xi)\n",
    "        a = sig.forward(z)\n",
    "        yhat = lin2.forward(a)\n",
    "        loss += mse.forward(yhat,yi)\n",
    "        Yhat[i] = yhat\n",
    "        \n",
    "        grad1 = mse.backward(yhat,yi)\n",
    "        grad2 = lin2.backward(a, grad1)\n",
    "        grad3 = sig.backward(z, grad2)\n",
    "        grad4 = lin1.backward(Xi, grad3)\n",
    "        \n",
    "        lin1.W = lin1.W - alpha*lin1.gradW\n",
    "        lin1.b = lin1.b - alpha*lin1.gradb\n",
    "        lin2.W = lin2.W - alpha*lin2.gradW\n",
    "        lin2.b = lin2.b - alpha*lin2.gradb\n",
    "\n",
    "    if epoch % 50 == 0:\n",
    "        print('Iteration %d = %.6f' % (epoch, loss / n))        \n",
    "        \n",
    "plt.plot(X,y,'.r')\n",
    "plt.plot(X,Yhat,'.b')"
   ]
  },
  {
   "cell_type": "markdown",
   "metadata": {},
   "source": [
    "Relu gives an okayish solution even with less number of layers\n",
    "Seems like its learning the up and downward lines\n"
   ]
  },
  {
   "cell_type": "code",
   "execution_count": 366,
   "metadata": {},
   "outputs": [
    {
     "name": "stdout",
     "output_type": "stream",
     "text": [
      "Iteration 0 = 2.630389\n",
      "Iteration 50 = 0.419176\n",
      "Iteration 100 = 0.426562\n",
      "Iteration 150 = 0.433610\n",
      "Iteration 200 = 0.441109\n",
      "Iteration 250 = 0.448841\n",
      "Iteration 300 = 0.455971\n",
      "Iteration 350 = 0.462215\n"
     ]
    },
    {
     "data": {
      "text/plain": [
       "[<matplotlib.lines.Line2D at 0x11100bb10>]"
      ]
     },
     "execution_count": 366,
     "metadata": {},
     "output_type": "execute_result"
    },
    {
     "data": {
      "image/png": "[encoded data removed]",
      "text/plain": [
       "<matplotlib.figure.Figure at 0x119e37810>"
      ]
     },
     "metadata": {},
     "output_type": "display_data"
    }
   ],
   "source": [
    "# Relu gives an okayish solution even with less number of layers\n",
    "# seems like its learning the up and downward lines\n",
    "\n",
    "alpha = 0.01\n",
    "epochs = 400\n",
    "\n",
    "h=50\n",
    "lin1 = Linear(d,h)\n",
    "sig = Tanh()\n",
    "lin2 = Linear(h,o)\n",
    "mse = MSE()\n",
    "\n",
    "for epoch in range(0,epochs):\n",
    "    loss = 0\n",
    "    Yhat = np.zeros(n)\n",
    "    for i in range(0, n):\n",
    "        Xi = X[i]\n",
    "        yi = y[i]\n",
    "\n",
    "        # forward propagation\n",
    "        z = lin1.forward(Xi)\n",
    "        a = sig.forward(z)\n",
    "        yhat = lin2.forward(a)\n",
    "        loss += mse.forward(yhat,yi)\n",
    "        Yhat[i] = yhat\n",
    "        \n",
    "        grad1 = mse.backward(yhat,yi)\n",
    "        grad2 = lin2.backward(a, grad1)\n",
    "        grad3 = sig.backward(z, grad2)\n",
    "        grad4 = lin1.backward(Xi, grad3)\n",
    "        \n",
    "        lin1.W = lin1.W - alpha*lin1.gradW\n",
    "        lin1.b = lin1.b - alpha*lin1.gradb\n",
    "        lin2.W = lin2.W - alpha*lin2.gradW\n",
    "        lin2.b = lin2.b - alpha*lin2.gradb\n",
    "\n",
    "    if epoch % 50 == 0:\n",
    "        print('Iteration %d = %.6f' % (epoch, loss / n))        \n",
    "        \n",
    "plt.plot(X,y,'.r')\n",
    "plt.plot(X,Yhat,'.b')"
   ]
  },
  {
   "cell_type": "markdown",
   "metadata": {},
   "source": [
    "TanH has similar to relu behavior, makes sense"
   ]
  },
  {
   "cell_type": "markdown",
   "metadata": {},
   "source": [
    "## Using pytorch"
   ]
  },
  {
   "cell_type": "code",
   "execution_count": 433,
   "metadata": {},
   "outputs": [],
   "source": [
    "class Net(nn.Module):\n",
    "    def __init__(self, hidden):\n",
    "        super(Net, self).__init__()\n",
    "        self.fc1 = nn.Linear(1, hidden)\n",
    "        self.fc2 = nn.Linear(hidden,1)\n",
    "        \n",
    "    def forward(self,x):\n",
    "        z = self.fc1(x)\n",
    "        a = F.sigmoid(z)\n",
    "        yhat = self.fc2(a)\n",
    "        return yhat"
   ]
  },
  {
   "cell_type": "code",
   "execution_count": 505,
   "metadata": {},
   "outputs": [
    {
     "name": "stdout",
     "output_type": "stream",
     "text": [
      "Epoch [0]: loss = 47.200035\n",
      "Epoch [10000]: loss = 0.412635\n",
      "Epoch [20000]: loss = 0.207668\n",
      "Epoch [30000]: loss = 0.147588\n",
      "Epoch [40000]: loss = 0.133015\n",
      "Epoch [50000]: loss = 0.118666\n",
      "Epoch [60000]: loss = 0.099852\n",
      "Epoch [70000]: loss = 0.066810\n",
      "Epoch [80000]: loss = 0.038356\n",
      "Epoch [90000]: loss = 0.030612\n",
      "Epoch [100000]: loss = 0.024403\n",
      "Epoch [110000]: loss = 0.022680\n",
      "Epoch [120000]: loss = 0.021205\n",
      "Epoch [130000]: loss = 0.020583\n",
      "Epoch [140000]: loss = 0.021146\n"
     ]
    },
    {
     "data": {
      "text/plain": [
       "[<matplotlib.lines.Line2D at 0x11dad3b90>]"
      ]
     },
     "execution_count": 505,
     "metadata": {},
     "output_type": "execute_result"
    },
    {
     "data": {
      "image/png": "[encoded data removed]",
      "text/plain": [
       "<matplotlib.figure.Figure at 0x11df19fd0>"
      ]
     },
     "metadata": {},
     "output_type": "display_data"
    }
   ],
   "source": [
    "net = Net(20)\n",
    "net.train()\n",
    "if torch.cuda.is_available():\n",
    "    net = net.cuda()\n",
    "criterion = nn.MSELoss()\n",
    "\n",
    "tensorX = torch.FloatTensor(X)\n",
    "tensorX = tensorX.unsqueeze(1)\n",
    "varX = Variable(tensorX)    \n",
    "varY = Variable(torch.FloatTensor(y).unsqueeze(1))\n",
    "\n",
    "optimizer = optim.Adam(net.parameters(), lr=0.01)\n",
    "for epoch in range(0,150000):    \n",
    "    yhat = net(varX)\n",
    "    loss = criterion(yhat, varY)\n",
    "    optimizer.zero_grad()\n",
    "    loss.backward()\n",
    "    optimizer.step()\n",
    "    if epoch%10000 ==0:\n",
    "        print(\"Epoch [%d]: loss = %.6f\" % (epoch, loss))\n",
    "    \n",
    "#Print paramters for diagnosis\n",
    "# for paramter in net.named_parameters():\n",
    "#     print paramter    \n",
    "\n",
    "plt.plot(X,y,'.r')\n",
    "plt.plot(X,yhat.data.squeeze().numpy(),'.b')"
   ]
  },
  {
   "cell_type": "markdown",
   "metadata": {},
   "source": [
    "Pytorch batching is very fast and hence allows a lot of epochs quickly!\n",
    "Also adam is kind of cool and better than sgd"
   ]
  },
  {
   "cell_type": "code",
   "execution_count": null,
   "metadata": {},
   "outputs": [],
   "source": []
  }
 ],
 "metadata": {
  "kernelspec": {
   "display_name": "Python 2",
   "language": "python",
   "name": "python2"
  },
  "language_info": {
   "codemirror_mode": {
    "name": "ipython",
    "version": 2
   },
   "file_extension": ".py",
   "mimetype": "text/x-python",
   "name": "python",
   "nbconvert_exporter": "python",
   "pygments_lexer": "ipython2",
   "version": "2.7.14"
  }
 },
 "nbformat": 4,
 "nbformat_minor": 2
}
