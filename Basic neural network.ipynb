{
 "cells": [
  {
   "cell_type": "code",
   "execution_count": 4,
   "metadata": {},
   "outputs": [],
   "source": [
    "import numpy as np"
   ]
  },
  {
   "cell_type": "code",
   "execution_count": 128,
   "metadata": {},
   "outputs": [],
   "source": [
    "# Bare bones neural network, just for fun\n",
    "\n",
    "\n",
    "# BP thinking - for any equation, the gradient of inputs is product of gradients of\n",
    "# the loss with respect to output (how the loss changes with respect to output)\n",
    "# the output with respect to inputs (hot the output changes with respect to inputs)\n",
    "\n",
    "# Nice videos for vectorizing code\n",
    "# https://www.youtube.com/watch?v=-l9BdZsopYI\n",
    "# \n",
    "\n",
    "class Linear:\n",
    "    def __init__(self, input_dim, output_dim):\n",
    "        # output dim is k, input dim is d\n",
    "        self.W = np.random.randn(output_dim,input_dim) # kxd matrix\n",
    "        self.b = np.random.randn(output_dim,1) # kx1 matrix\n",
    "        self.gradW = np.random.randn(output_dim,input_dim) # kxd matrix\n",
    "        self.gradb = np.random.randn(output_dim)\n",
    "        \n",
    "    # x is 1xd single example\n",
    "    def forward(self, x):\n",
    "        # z = XWT + b\n",
    "        output = np.dot(self.W,x) + self.b\n",
    "        return output # nxk matrix\n",
    "    \n",
    "    def backward(self, x, prevGrad):\n",
    "        # this can be thought as three separate groups of variables in computation graph\n",
    "        # 1. the inputs x\n",
    "        # 2. the weights w\n",
    "        # 3. the bias b\n",
    "        # z = XWT + b\n",
    "        \n",
    "        # dL/dW = dz/dW * dL/dz\n",
    "        # this is a kxd matrix\n",
    "        self.gradW = np.dot(prevGrad, x.T)\n",
    "        \n",
    "        # dL/db = dz/db * dL/dz\n",
    "        # this is a kx1 matrix\n",
    "        self.gradb = np.copy(prevGrad)\n",
    "        \n",
    "        # this needs to be returned; as this is the value comes from previous layer\n",
    "        # dL/dX = dz/dX * dL/dz\n",
    "        # this is a dx1 matrix\n",
    "        return np.dot(self.W.T ,prevGrad)\n",
    "        \n",
    "        \n",
    "class Sigmoid:\n",
    "    def __init__(self):\n",
    "        pass\n",
    "    \n",
    "    def forward(self, x):\n",
    "        output = 1/(1+np.exp(-x))\n",
    "        return output\n",
    "    \n",
    "    def backward(self, x, prevGrad):\n",
    "        sig = 1/(1+np.exp(-x))\n",
    "        return np.multiply(np.multiply(sig, (1 - sig)), prevGrad)\n",
    "        \n",
    "class MSE:\n",
    "    def __init__(self,labels):\n",
    "        self.labels = labels\n",
    "    \n",
    "    def forward(self,x):\n",
    "        output = np.mean(np.square((x-self.labels)))\n",
    "        return output\n",
    "    \n",
    "    def backward(self, x):\n",
    "        return np.mean(2*(x - self.labels))\n",
    "        \n",
    "        "
   ]
  },
  {
   "cell_type": "code",
   "execution_count": 129,
   "metadata": {
    "scrolled": true
   },
   "outputs": [],
   "source": [
    "n = 1 #the matrix operations above does not support batching\n",
    "d = 2\n",
    "h = 3\n",
    "o = 1\n",
    "\n",
    "# X is 1xd thing\n",
    "X = np.random.randn(d,1)\n",
    "Y = np.random.randn(1)\n",
    "\n",
    "lin1 = Linear(d,h)\n",
    "sig = Sigmoid()\n",
    "lin2 = Linear(h,o)\n",
    "mse = MSE(Y)\n",
    "\n",
    "z = lin1.forward(X) # kx1 matrix\n",
    "a = sig.forward(z)\n",
    "yhat = lin2.forward(a)\n",
    "loss = mse.forward(yhat)"
   ]
  },
  {
   "cell_type": "code",
   "execution_count": 138,
   "metadata": {},
   "outputs": [
    {
     "data": {
      "text/plain": [
       "array([[-0.27029735],\n",
       "       [-0.48222409],\n",
       "       [ 2.27783732]])"
      ]
     },
     "execution_count": 138,
     "metadata": {},
     "output_type": "execute_result"
    }
   ],
   "source": [
    "grad1 = mse.backward(yhat)\n",
    "grad2 = lin2.backward(a, grad1)\n",
    "grad3 = sig.backward(z, grad2)\n",
    "grad4 = lin1.backward(X, grad3)\n",
    "lin1.b"
   ]
  },
  {
   "cell_type": "code",
   "execution_count": 75,
   "metadata": {},
   "outputs": [
    {
     "data": {
      "text/plain": [
       "array([[ 1.94131599]])"
      ]
     },
     "execution_count": 75,
     "metadata": {},
     "output_type": "execute_result"
    }
   ],
   "source": [
    "np.dot(X.T,X)"
   ]
  },
  {
   "cell_type": "code",
   "execution_count": 103,
   "metadata": {},
   "outputs": [],
   "source": [
    "dd = np.random.randn(3,2) # kxd matrix\n",
    "bb = np.random.randn(3,1) # 1x1 matrix\n"
   ]
  },
  {
   "cell_type": "code",
   "execution_count": 104,
   "metadata": {},
   "outputs": [
    {
     "data": {
      "text/plain": [
       "array([[ 2.2331605 ,  0.60344817],\n",
       "       [ 1.54753237, -1.6356448 ],\n",
       "       [ 0.8241335 , -0.06775162]])"
      ]
     },
     "execution_count": 104,
     "metadata": {},
     "output_type": "execute_result"
    }
   ],
   "source": [
    "dd"
   ]
  },
  {
   "cell_type": "code",
   "execution_count": 105,
   "metadata": {},
   "outputs": [
    {
     "data": {
      "text/plain": [
       "array([[-0.11224995],\n",
       "       [ 0.66822787],\n",
       "       [-0.4767358 ]])"
      ]
     },
     "execution_count": 105,
     "metadata": {},
     "output_type": "execute_result"
    }
   ],
   "source": [
    "bb"
   ]
  },
  {
   "cell_type": "code",
   "execution_count": 107,
   "metadata": {},
   "outputs": [
    {
     "data": {
      "text/plain": [
       "array([[ 2.12091054,  0.49119821],\n",
       "       [ 2.21576024, -0.96741693],\n",
       "       [ 0.34739771, -0.54448741]])"
      ]
     },
     "execution_count": 107,
     "metadata": {},
     "output_type": "execute_result"
    }
   ],
   "source": [
    "dd+bb"
   ]
  },
  {
   "cell_type": "code",
   "execution_count": null,
   "metadata": {},
   "outputs": [],
   "source": []
  }
 ],
 "metadata": {
  "kernelspec": {
   "display_name": "Python 2",
   "language": "python",
   "name": "python2"
  },
  "language_info": {
   "codemirror_mode": {
    "name": "ipython",
    "version": 2
   },
   "file_extension": ".py",
   "mimetype": "text/x-python",
   "name": "python",
   "nbconvert_exporter": "python",
   "pygments_lexer": "ipython2",
   "version": "2.7.14"
  }
 },
 "nbformat": 4,
 "nbformat_minor": 2
}
